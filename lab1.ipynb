{
  "nbformat": 4,
  "nbformat_minor": 0,
  "metadata": {
    "colab": {
      "name": "lab1.ipynb",
      "provenance": []
    },
    "kernelspec": {
      "name": "python3",
      "display_name": "Python 3"
    }
  },
  "cells": [
    {
      "cell_type": "markdown",
      "metadata": {
        "id": "Po5o3hCc82u9",
        "colab_type": "text"
      },
      "source": [
        "# **This Notebook is for the final capstone project** "
      ]
    },
    {
      "cell_type": "code",
      "metadata": {
        "id": "l1Lq4cNQ86La",
        "colab_type": "code",
        "colab": {}
      },
      "source": [
        "import pandas as pd\n",
        "import numpy as np\n",
        "\n",
        "print(\"Hello Capstone Project Course!\")"
      ],
      "execution_count": 0,
      "outputs": []
    }
  ]
}